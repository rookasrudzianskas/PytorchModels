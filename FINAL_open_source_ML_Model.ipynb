{
  "nbformat": 4,
  "nbformat_minor": 0,
  "metadata": {
    "colab": {
      "provenance": [],
      "authorship_tag": "ABX9TyN4JqjE53BPpQoaNZAoosiC",
      "include_colab_link": true
    },
    "kernelspec": {
      "name": "python3",
      "display_name": "Python 3"
    },
    "language_info": {
      "name": "python"
    },
    "accelerator": "GPU",
    "gpuClass": "standard"
  },
  "cells": [
    {
      "cell_type": "markdown",
      "metadata": {
        "id": "view-in-github",
        "colab_type": "text"
      },
      "source": [
        "<a href=\"https://colab.research.google.com/github/rookasrudzianskas/PytorchModels/blob/master/FINAL_open_source_ML_Model.ipynb\" target=\"_parent\"><img src=\"https://colab.research.google.com/assets/colab-badge.svg\" alt=\"Open In Colab\"/></a>"
      ]
    },
    {
      "cell_type": "code",
      "execution_count": 25,
      "metadata": {
        "colab": {
          "base_uri": "https://localhost:8080/",
          "height": 35
        },
        "id": "E85YtdpWqMHo",
        "outputId": "fc7c45a8-19b2-4c35-cbf1-642a24f19299"
      },
      "outputs": [
        {
          "output_type": "execute_result",
          "data": {
            "text/plain": [
              "'1.12.1+cu113'"
            ],
            "application/vnd.google.colaboratory.intrinsic+json": {
              "type": "string"
            }
          },
          "metadata": {},
          "execution_count": 25
        }
      ],
      "source": [
        "import torch\n",
        "from torch import nn # nn contains all of the Twitter Building blocks\n",
        "import matplotlib.pyplot as plt\n",
        "\n",
        "torch.__version__"
      ]
    },
    {
      "cell_type": "code",
      "source": [
        "weight = 0.7 # b\n",
        "bias = 0.3 # a\n",
        "\n",
        "start = 0\n",
        "end = 1\n",
        "step = 0.02\n",
        "X = torch.arange(start, end, step).unsqueeze(dim=1)\n",
        "y = weight * X + bias\n",
        "\n",
        "X[:10], y[:10]"
      ],
      "metadata": {
        "colab": {
          "base_uri": "https://localhost:8080/"
        },
        "id": "ni6UabA3wvxj",
        "outputId": "922d7294-e685-429f-f429-2708eefcd042"
      },
      "execution_count": 26,
      "outputs": [
        {
          "output_type": "execute_result",
          "data": {
            "text/plain": [
              "(tensor([[0.0000],\n",
              "         [0.0200],\n",
              "         [0.0400],\n",
              "         [0.0600],\n",
              "         [0.0800],\n",
              "         [0.1000],\n",
              "         [0.1200],\n",
              "         [0.1400],\n",
              "         [0.1600],\n",
              "         [0.1800]]), tensor([[0.3000],\n",
              "         [0.3140],\n",
              "         [0.3280],\n",
              "         [0.3420],\n",
              "         [0.3560],\n",
              "         [0.3700],\n",
              "         [0.3840],\n",
              "         [0.3980],\n",
              "         [0.4120],\n",
              "         [0.4260]]))"
            ]
          },
          "metadata": {},
          "execution_count": 26
        }
      ]
    },
    {
      "cell_type": "code",
      "source": [
        "len(X), len(y)"
      ],
      "metadata": {
        "colab": {
          "base_uri": "https://localhost:8080/"
        },
        "id": "LKAj1Er9yms3",
        "outputId": "9abacba2-1cdf-4ceb-90d0-cff293fe526f"
      },
      "execution_count": 27,
      "outputs": [
        {
          "output_type": "execute_result",
          "data": {
            "text/plain": [
              "(50, 50)"
            ]
          },
          "metadata": {},
          "execution_count": 27
        }
      ]
    },
    {
      "cell_type": "code",
      "source": [
        "train_split = int(0.8 * len(X))\n",
        "train_split\n",
        "# 40 samples of x and other 40 samples of y\n",
        "\n",
        "X_train, y_train = X[:train_split], y[:train_split]\n",
        "X_test, y_test = X[train_split:], y[train_split:]\n",
        "\n",
        "len(X_train), len(y_train), len(X_test), len(y_test)"
      ],
      "metadata": {
        "colab": {
          "base_uri": "https://localhost:8080/"
        },
        "id": "ylS9SjfqzIh-",
        "outputId": "1d703fea-e064-4aaf-f0d2-67ea27862d04"
      },
      "execution_count": 28,
      "outputs": [
        {
          "output_type": "execute_result",
          "data": {
            "text/plain": [
              "(40, 40, 10, 10)"
            ]
          },
          "metadata": {},
          "execution_count": 28
        }
      ]
    },
    {
      "cell_type": "code",
      "source": [
        "def plot_predictions(train_data=X_train, train_labels=y_train, test_data=X_test, test_labels=y_test, predictions=None):\n",
        "  plt.figure(figsize=(10, 7))\n",
        "  plt.scatter(train_data, train_labels, c=\"b\", s=4, label=\"Training data\")\n",
        "  # PLot\n",
        "  plt.scatter(test_data, test_labels, c=\"g\", s=4, label=\"Testing Data\")\n",
        "\n",
        "  if predictions is not None:\n",
        "    plt.scatter(test_data, predictions, c=\"r\", s=4, label=\"Predictions\")\n",
        "  plt.legend(prop={\"size\": 14})"
      ],
      "metadata": {
        "id": "Fjo8GLCd1kFo"
      },
      "execution_count": 29,
      "outputs": []
    },
    {
      "cell_type": "code",
      "source": [
        "plot_predictions()"
      ],
      "metadata": {
        "colab": {
          "base_uri": "https://localhost:8080/",
          "height": 428
        },
        "id": "uw-7zLNX3C-V",
        "outputId": "b5bb5a1a-9209-4d1d-bd92-f956e5003a2e"
      },
      "execution_count": 30,
      "outputs": [
        {
          "output_type": "display_data",
          "data": {
            "text/plain": [
              "<Figure size 720x504 with 1 Axes>"
            ],
            "image/png": "[encoded data removed]"
          },
          "metadata": {
            "needs_background": "light"
          }
        }
      ]
    },
    {
      "cell_type": "code",
      "source": [
        "class LinearRegressionModel(nn.Module):\n",
        "  def __init__(self):\n",
        "    super().__init__()\n",
        "    # variables what our model needs to be using\n",
        "    self.weights = nn.Parameter(torch.rand(1, requires_grad=True, dtype=torch.float))\n",
        "    self.bias = nn.Parameter(torch.rand(1, requires_grad=True, dtype=torch.float))\n",
        "    # forward method to define the computation in the model\n",
        "  def forward(self, x: torch.Tensor) -> torch.Tensor:\n",
        "    return self.weights * x + self.bias # this is linear regression formula"
      ],
      "metadata": {
        "id": "swDqFt0-3Zuc"
      },
      "execution_count": 31,
      "outputs": []
    },
    {
      "cell_type": "code",
      "source": [
        "# torch.manual_seed(42)\n",
        "# torch.randn(1)"
      ],
      "metadata": {
        "id": "nmCKJXy6lvs9"
      },
      "execution_count": 32,
      "outputs": []
    },
    {
      "cell_type": "code",
      "source": [
        "torch.manual_seed(42)\n",
        "\n",
        "# Instance of the model I created\n",
        "model_0 = LinearRegressionModel()\n",
        "\n",
        "# Check out the params\n",
        "list(model_0.parameters())"
      ],
      "metadata": {
        "colab": {
          "base_uri": "https://localhost:8080/"
        },
        "id": "o-DLW2ZR3aSh",
        "outputId": "59658a0b-059e-4d8a-f8f4-9c06a3dff807"
      },
      "execution_count": 33,
      "outputs": [
        {
          "output_type": "execute_result",
          "data": {
            "text/plain": [
              "[Parameter containing:\n",
              " tensor([0.8823], requires_grad=True), Parameter containing:\n",
              " tensor([0.9150], requires_grad=True)]"
            ]
          },
          "metadata": {},
          "execution_count": 33
        }
      ]
    },
    {
      "cell_type": "code",
      "source": [
        "# List named params\n",
        "model_0.state_dict()"
      ],
      "metadata": {
        "colab": {
          "base_uri": "https://localhost:8080/"
        },
        "id": "AaZfG6Z3mMtL",
        "outputId": "9677a8b7-311b-41e6-f171-574a2fd7dbef"
      },
      "execution_count": 34,
      "outputs": [
        {
          "output_type": "execute_result",
          "data": {
            "text/plain": [
              "OrderedDict([('weights', tensor([0.8823])), ('bias', tensor([0.9150]))])"
            ]
          },
          "metadata": {},
          "execution_count": 34
        }
      ]
    },
    {
      "cell_type": "code",
      "source": [
        "X_test, y_test"
      ],
      "metadata": {
        "colab": {
          "base_uri": "https://localhost:8080/"
        },
        "id": "_e8GOFM_3ad1",
        "outputId": "9a161ec3-e673-4a91-ac72-1935b3c68955"
      },
      "execution_count": 35,
      "outputs": [
        {
          "output_type": "execute_result",
          "data": {
            "text/plain": [
              "(tensor([[0.8000],\n",
              "         [0.8200],\n",
              "         [0.8400],\n",
              "         [0.8600],\n",
              "         [0.8800],\n",
              "         [0.9000],\n",
              "         [0.9200],\n",
              "         [0.9400],\n",
              "         [0.9600],\n",
              "         [0.9800]]), tensor([[0.8600],\n",
              "         [0.8740],\n",
              "         [0.8880],\n",
              "         [0.9020],\n",
              "         [0.9160],\n",
              "         [0.9300],\n",
              "         [0.9440],\n",
              "         [0.9580],\n",
              "         [0.9720],\n",
              "         [0.9860]]))"
            ]
          },
          "metadata": {},
          "execution_count": 35
        }
      ]
    },
    {
      "cell_type": "code",
      "source": [
        "# y_preds = model_0(X_test)\n",
        "# y_preds"
      ],
      "metadata": {
        "id": "-SIc6FZtpIPm"
      },
      "execution_count": 36,
      "outputs": []
    },
    {
      "cell_type": "code",
      "source": [
        "# Making predictions torch.inference_mode()\n",
        "with torch.inference_mode():\n",
        "  y_preds = model_0(X_test)\n",
        "\n",
        "# with torch.no_grad():\n",
        "#   y_preds = model_0(X_test)\n",
        "\n",
        "y_preds\n"
      ],
      "metadata": {
        "colab": {
          "base_uri": "https://localhost:8080/"
        },
        "id": "Zekt439P3apV",
        "outputId": "4af2d740-337f-4023-e1cb-ed87ad10defc"
      },
      "execution_count": 37,
      "outputs": [
        {
          "output_type": "execute_result",
          "data": {
            "text/plain": [
              "tensor([[1.6208],\n",
              "        [1.6385],\n",
              "        [1.6561],\n",
              "        [1.6738],\n",
              "        [1.6914],\n",
              "        [1.7090],\n",
              "        [1.7267],\n",
              "        [1.7443],\n",
              "        [1.7620],\n",
              "        [1.7796]])"
            ]
          },
          "metadata": {},
          "execution_count": 37
        }
      ]
    },
    {
      "cell_type": "code",
      "source": [
        "y_test"
      ],
      "metadata": {
        "colab": {
          "base_uri": "https://localhost:8080/"
        },
        "id": "-SFGPAyLme-F",
        "outputId": "7fe17ccb-864a-49c8-ecf5-26de9e71e516"
      },
      "execution_count": 38,
      "outputs": [
        {
          "output_type": "execute_result",
          "data": {
            "text/plain": [
              "tensor([[0.8600],\n",
              "        [0.8740],\n",
              "        [0.8880],\n",
              "        [0.9020],\n",
              "        [0.9160],\n",
              "        [0.9300],\n",
              "        [0.9440],\n",
              "        [0.9580],\n",
              "        [0.9720],\n",
              "        [0.9860]])"
            ]
          },
          "metadata": {},
          "execution_count": 38
        }
      ]
    },
    {
      "cell_type": "code",
      "source": [
        "plot_predictions(predictions=y_preds)"
      ],
      "metadata": {
        "colab": {
          "base_uri": "https://localhost:8080/",
          "height": 428
        },
        "id": "MhzLzATtmfI2",
        "outputId": "26c85927-f770-4b77-cd4b-39057bcaedde"
      },
      "execution_count": 39,
      "outputs": [
        {
          "output_type": "display_data",
          "data": {
            "text/plain": [
              "<Figure size 720x504 with 1 Axes>"
            ],
            "image/png": "[encoded data removed]"
          },
          "metadata": {
            "needs_background": "light"
          }
        }
      ]
    },
    {
      "cell_type": "code",
      "source": [
        "list(model_0.parameters())"
      ],
      "metadata": {
        "colab": {
          "base_uri": "https://localhost:8080/"
        },
        "id": "O0fg0IYGmfTE",
        "outputId": "a5fa6ab7-d802-4177-81eb-529705b117e9"
      },
      "execution_count": 40,
      "outputs": [
        {
          "output_type": "execute_result",
          "data": {
            "text/plain": [
              "[Parameter containing:\n",
              " tensor([0.8823], requires_grad=True), Parameter containing:\n",
              " tensor([0.9150], requires_grad=True)]"
            ]
          },
          "metadata": {},
          "execution_count": 40
        }
      ]
    },
    {
      "cell_type": "code",
      "source": [
        "model_0.state_dict()"
      ],
      "metadata": {
        "colab": {
          "base_uri": "https://localhost:8080/"
        },
        "id": "HnDzXib_mfc2",
        "outputId": "6d866058-6105-4597-b311-c7df6e2fa4d0"
      },
      "execution_count": 41,
      "outputs": [
        {
          "output_type": "execute_result",
          "data": {
            "text/plain": [
              "OrderedDict([('weights', tensor([0.8823])), ('bias', tensor([0.9150]))])"
            ]
          },
          "metadata": {},
          "execution_count": 41
        }
      ]
    },
    {
      "cell_type": "code",
      "source": [
        "loss_fn = nn.L1Loss() # measures how poor our function is\n",
        "\n",
        "optimizer = torch.optim.SGD(params=model_0.parameters(), lr=0.01) # adjust the params to reduce the lost"
      ],
      "metadata": {
        "id": "qKawOQt43azb"
      },
      "execution_count": 42,
      "outputs": []
    },
    {
      "cell_type": "code",
      "source": [
        "torch.manual_seed(42)\n",
        "\n",
        "# One loop through the data, 1 go trought the data\n",
        "epochs = 200\n",
        "\n",
        "epoch_count = []\n",
        "loss_values = []\n",
        "test_loss_values = []\n",
        "\n",
        "# TRAINING\n",
        "# Loop through the data\n",
        "for epoch in range(epochs):\n",
        "  # Set the model to training mode\n",
        "  model_0.train() # train mode in Pytorch set all params that require gradients to require gradients\n",
        "\n",
        "  # Forward pass\n",
        "  #  This evaluates the patters what Twitter model have learned -> forward(), does some calculatations\n",
        "  y_pred = model_0(X_train)\n",
        "\n",
        "  # Calculate the loss, this is calculating how wrong the model calculations are from idea model\n",
        "  # Calculating the diference between model predictions on the training model set, and the ideal training values\n",
        "  # PREDICTIONS -> LABELS\n",
        "  loss = loss_fn(y_pred, y_train)\n",
        "\n",
        "  # Optimizer zero grad, to start fresh in every loop, \n",
        "  optimizer.zero_grad()\n",
        "\n",
        "  # Perform backpropagation on the loss with respect to the params of the model\n",
        "  # I computes gradients of every parameter\n",
        "  loss.backward()\n",
        "\n",
        "  # Step the optimizer (perform gradient descent)\n",
        "  optimizer.step() # by default, how the optimizer changes will accumulate throught the loop. I zero them up, because in step 3 it tries to go one more time\n",
        "\n",
        "  model_0.eval() # turns off gradient tracking, and other settings in the model not needed for testing\n",
        "  with torch.inference_mode(): # turns off gradient tracking\n",
        "    # Do the forward pass\n",
        "    test_pred = model_0(X_test)\n",
        "    # Calculate the loss\n",
        "    test_loss = loss_fn(test_pred, y_test)\n",
        "  # Print what is happening\n",
        "  if epoch % 10 == 0:\n",
        "    epoch_count.append(epoch)\n",
        "    loss_values.append(loss)\n",
        "    test_loss_values.append(test_loss)\n",
        "    print(f\"Epoch: {epoch} | Test: {loss} | Test loss: {test_loss}\")\n",
        "    print(model_0.state_dict())\n"
      ],
      "metadata": {
        "colab": {
          "base_uri": "https://localhost:8080/"
        },
        "id": "-jNQs_mjf5_I",
        "outputId": "22a157de-d597-4f13-95a3-094a20d7d696"
      },
      "execution_count": 43,
      "outputs": [
        {
          "output_type": "stream",
          "name": "stdout",
          "text": [
            "Epoch: 0 | Test: 0.6860889196395874 | Test loss: 0.7637526988983154\n",
            "OrderedDict([('weights', tensor([0.8784])), ('bias', tensor([0.9050]))])\n",
            "Epoch: 10 | Test: 0.5708791017532349 | Test loss: 0.6290428042411804\n",
            "OrderedDict([('weights', tensor([0.8394])), ('bias', tensor([0.8050]))])\n",
            "Epoch: 20 | Test: 0.45566922426223755 | Test loss: 0.4943329691886902\n",
            "OrderedDict([('weights', tensor([0.8004])), ('bias', tensor([0.7050]))])\n",
            "Epoch: 30 | Test: 0.34045934677124023 | Test loss: 0.35962313413619995\n",
            "OrderedDict([('weights', tensor([0.7614])), ('bias', tensor([0.6050]))])\n",
            "Epoch: 40 | Test: 0.2252494841814041 | Test loss: 0.2249133139848709\n",
            "OrderedDict([('weights', tensor([0.7224])), ('bias', tensor([0.5050]))])\n",
            "Epoch: 50 | Test: 0.1100396141409874 | Test loss: 0.09020347893238068\n",
            "OrderedDict([('weights', tensor([0.6834])), ('bias', tensor([0.4050]))])\n",
            "Epoch: 60 | Test: 0.009724985808134079 | Test loss: 0.020998019725084305\n",
            "OrderedDict([('weights', tensor([0.6539])), ('bias', tensor([0.3200]))])\n",
            "Epoch: 70 | Test: 0.006216754671186209 | Test loss: 0.014099234715104103\n",
            "OrderedDict([('weights', tensor([0.6707])), ('bias', tensor([0.3120]))])\n",
            "Epoch: 80 | Test: 0.002788322512060404 | Test loss: 0.005826681852340698\n",
            "OrderedDict([('weights', tensor([0.6878])), ('bias', tensor([0.3050]))])\n",
            "Epoch: 90 | Test: 0.007095950655639172 | Test loss: 0.00754010071977973\n",
            "OrderedDict([('weights', tensor([0.6938])), ('bias', tensor([0.2980]))])\n",
            "Epoch: 100 | Test: 0.007095950655639172 | Test loss: 0.00754010071977973\n",
            "OrderedDict([('weights', tensor([0.6938])), ('bias', tensor([0.2980]))])\n",
            "Epoch: 110 | Test: 0.007095950655639172 | Test loss: 0.00754010071977973\n",
            "OrderedDict([('weights', tensor([0.6938])), ('bias', tensor([0.2980]))])\n",
            "Epoch: 120 | Test: 0.007095950655639172 | Test loss: 0.00754010071977973\n",
            "OrderedDict([('weights', tensor([0.6938])), ('bias', tensor([0.2980]))])\n",
            "Epoch: 130 | Test: 0.007095950655639172 | Test loss: 0.00754010071977973\n",
            "OrderedDict([('weights', tensor([0.6938])), ('bias', tensor([0.2980]))])\n",
            "Epoch: 140 | Test: 0.007095950655639172 | Test loss: 0.00754010071977973\n",
            "OrderedDict([('weights', tensor([0.6938])), ('bias', tensor([0.2980]))])\n",
            "Epoch: 150 | Test: 0.007095950655639172 | Test loss: 0.00754010071977973\n",
            "OrderedDict([('weights', tensor([0.6938])), ('bias', tensor([0.2980]))])\n",
            "Epoch: 160 | Test: 0.007095950655639172 | Test loss: 0.00754010071977973\n",
            "OrderedDict([('weights', tensor([0.6938])), ('bias', tensor([0.2980]))])\n",
            "Epoch: 170 | Test: 0.007095950655639172 | Test loss: 0.00754010071977973\n",
            "OrderedDict([('weights', tensor([0.6938])), ('bias', tensor([0.2980]))])\n",
            "Epoch: 180 | Test: 0.007095950655639172 | Test loss: 0.00754010071977973\n",
            "OrderedDict([('weights', tensor([0.6938])), ('bias', tensor([0.2980]))])\n",
            "Epoch: 190 | Test: 0.007095950655639172 | Test loss: 0.00754010071977973\n",
            "OrderedDict([('weights', tensor([0.6938])), ('bias', tensor([0.2980]))])\n"
          ]
        }
      ]
    },
    {
      "cell_type": "code",
      "source": [
        "# epoch_count, loss_values, test_loss_values"
      ],
      "metadata": {
        "id": "RrE9KZ4EUUuH"
      },
      "execution_count": 44,
      "outputs": []
    },
    {
      "cell_type": "code",
      "source": [
        "import numpy as np\n",
        "\n",
        "plt.plot(epoch_count, np.array(torch.tensor(loss_values).numpy()), label=\"train loss\")\n",
        "plt.plot(epoch_count, test_loss_values, label=\"Test loss\")\n",
        "plt.title(\"Training and test loss curves\")\n",
        "plt.ylabel(\"Loss\")\n",
        "plt.xlabel(\"Epochs\")\n",
        "plt.legend()"
      ],
      "metadata": {
        "colab": {
          "base_uri": "https://localhost:8080/",
          "height": 312
        },
        "id": "83PeMSXPUVVH",
        "outputId": "186e126d-36bc-4aee-bf65-450b86da4c6b"
      },
      "execution_count": 52,
      "outputs": [
        {
          "output_type": "execute_result",
          "data": {
            "text/plain": [
              "<matplotlib.legend.Legend at 0x7f20fc779690>"
            ]
          },
          "metadata": {},
          "execution_count": 52
        },
        {
          "output_type": "display_data",
          "data": {
            "text/plain": [
              "<Figure size 432x288 with 1 Axes>"
            ],
            "image/png": "[encoded data removed]"
          },
          "metadata": {
            "needs_background": "light"
          }
        }
      ]
    },
    {
      "cell_type": "code",
      "source": [
        "with torch.inference_mode():\n",
        "  y_preds_new = model_0(X_test)"
      ],
      "metadata": {
        "id": "Npzdv31lG49k"
      },
      "execution_count": 46,
      "outputs": []
    },
    {
      "cell_type": "code",
      "source": [
        "model_0.state_dict()"
      ],
      "metadata": {
        "colab": {
          "base_uri": "https://localhost:8080/"
        },
        "id": "kchetUW2GKqp",
        "outputId": "51b53ee1-9cf5-44c5-aa08-25fefa0c4f47"
      },
      "execution_count": 47,
      "outputs": [
        {
          "output_type": "execute_result",
          "data": {
            "text/plain": [
              "OrderedDict([('weights', tensor([0.6977])), ('bias', tensor([0.3080]))])"
            ]
          },
          "metadata": {},
          "execution_count": 47
        }
      ]
    },
    {
      "cell_type": "code",
      "source": [
        "model_0.state_dict()"
      ],
      "metadata": {
        "colab": {
          "base_uri": "https://localhost:8080/"
        },
        "id": "CGPdpmGqf6Jy",
        "outputId": "68f172ab-2573-4201-9e84-ffe5372a8126"
      },
      "execution_count": 48,
      "outputs": [
        {
          "output_type": "execute_result",
          "data": {
            "text/plain": [
              "OrderedDict([('weights', tensor([0.6977])), ('bias', tensor([0.3080]))])"
            ]
          },
          "metadata": {},
          "execution_count": 48
        }
      ]
    },
    {
      "cell_type": "code",
      "source": [
        "weight, bias"
      ],
      "metadata": {
        "colab": {
          "base_uri": "https://localhost:8080/"
        },
        "id": "2DwT2I3pFs-t",
        "outputId": "32082854-c038-4446-a939-d7ca95c1e36a"
      },
      "execution_count": 49,
      "outputs": [
        {
          "output_type": "execute_result",
          "data": {
            "text/plain": [
              "(0.7, 0.3)"
            ]
          },
          "metadata": {},
          "execution_count": 49
        }
      ]
    },
    {
      "cell_type": "code",
      "source": [
        "plot_predictions(predictions=y_preds)"
      ],
      "metadata": {
        "colab": {
          "base_uri": "https://localhost:8080/",
          "height": 428
        },
        "id": "qfXH4UEBFtKd",
        "outputId": "4457ed6a-fb45-4cbc-ae7d-73f7ff96d4df"
      },
      "execution_count": 50,
      "outputs": [
        {
          "output_type": "display_data",
          "data": {
            "text/plain": [
              "<Figure size 720x504 with 1 Axes>"
            ],
            "image/png": "[encoded data removed]"
          },
          "metadata": {
            "needs_background": "light"
          }
        }
      ]
    },
    {
      "cell_type": "code",
      "source": [
        "plot_predictions(predictions=y_preds_new)"
      ],
      "metadata": {
        "colab": {
          "base_uri": "https://localhost:8080/",
          "height": 428
        },
        "id": "SptRYAjyFtU0",
        "outputId": "1a878a19-18d8-428a-e458-ecc9e3e2e384"
      },
      "execution_count": 51,
      "outputs": [
        {
          "output_type": "display_data",
          "data": {
            "text/plain": [
              "<Figure size 720x504 with 1 Axes>"
            ],
            "image/png": "[encoded data removed]"
          },
          "metadata": {
            "needs_background": "light"
          }
        }
      ]
    },
    {
      "cell_type": "code",
      "source": [
        "model_0.state_dict()"
      ],
      "metadata": {
        "colab": {
          "base_uri": "https://localhost:8080/"
        },
        "id": "9bxxUW48FtgF",
        "outputId": "28c6cd5c-58ca-4a99-d8be-c9f939f5fce0"
      },
      "execution_count": 53,
      "outputs": [
        {
          "output_type": "execute_result",
          "data": {
            "text/plain": [
              "OrderedDict([('weights', tensor([0.6977])), ('bias', tensor([0.3080]))])"
            ]
          },
          "metadata": {},
          "execution_count": 53
        }
      ]
    },
    {
      "cell_type": "code",
      "source": [
        "from pathlib import Path\n",
        "\n",
        "MODEL_PATH = Path(\"models\")\n",
        "MODEL_PATH.mkdir(parents=True, exist_ok=True)\n",
        "\n",
        "MODEL_NAME = \"01_python_workflow_model_0.pth\"\n",
        "MODEL_SAVE_PATH = MODEL_PATH / MODEL_NAME\n",
        "\n",
        "print(f\"Saving model to : {MODEL_SAVE_PATH}\")\n",
        "torch.save(obj=model_0.state_dict(), f=MODEL_SAVE_PATH)"
      ],
      "metadata": {
        "colab": {
          "base_uri": "https://localhost:8080/"
        },
        "id": "_r1JjcE8Xke-",
        "outputId": "1dc2a50f-b72e-41d7-c8b2-3b9c8c5e9148"
      },
      "execution_count": 62,
      "outputs": [
        {
          "output_type": "stream",
          "name": "stdout",
          "text": [
            "Saving model to : models/01_python_workflow_model_0.pth\n"
          ]
        }
      ]
    },
    {
      "cell_type": "code",
      "source": [
        "!ls -l models"
      ],
      "metadata": {
        "colab": {
          "base_uri": "https://localhost:8080/"
        },
        "id": "b3CJ-bWMXkqT",
        "outputId": "5d9218dc-693f-4920-f612-2853e9b6e0c6"
      },
      "execution_count": 63,
      "outputs": [
        {
          "output_type": "stream",
          "name": "stdout",
          "text": [
            "total 4\n",
            "-rw-r--r-- 1 root root 1063 Nov 24 11:35 01_python_workflow_model_0.pth\n"
          ]
        }
      ]
    },
    {
      "cell_type": "code",
      "source": [
        "# A new class of our model\n",
        "loaded_model_0 = LinearRegressionModel()\n",
        "\n",
        "# Load the saved state dict \n",
        "loaded_model_0.load_state_dict(torch.load(f=MODEL_SAVE_PATH))"
      ],
      "metadata": {
        "colab": {
          "base_uri": "https://localhost:8080/"
        },
        "id": "eXPDM4kxXk1y",
        "outputId": "77bc5be3-0fc1-48f5-9d30-550ce11d333e"
      },
      "execution_count": 68,
      "outputs": [
        {
          "output_type": "execute_result",
          "data": {
            "text/plain": [
              "<All keys matched successfully>"
            ]
          },
          "metadata": {},
          "execution_count": 68
        }
      ]
    },
    {
      "cell_type": "code",
      "source": [
        "loaded_model_0.state_dict()"
      ],
      "metadata": {
        "colab": {
          "base_uri": "https://localhost:8080/"
        },
        "id": "WZIzX5QlaTmP",
        "outputId": "340c7894-bdb0-4162-9d09-2e9c026b7888"
      },
      "execution_count": 69,
      "outputs": [
        {
          "output_type": "execute_result",
          "data": {
            "text/plain": [
              "OrderedDict([('weights', tensor([0.6977])), ('bias', tensor([0.3080]))])"
            ]
          },
          "metadata": {},
          "execution_count": 69
        }
      ]
    },
    {
      "cell_type": "code",
      "source": [
        "# Make some predictions, to make sure I loaded the model correctly\n",
        "loaded_model_0.eval()\n",
        "with torch.inference_mode():\n",
        "  loaded_model_preds = loaded_model_0(X_test)\n",
        "\n",
        "loaded_model_preds"
      ],
      "metadata": {
        "colab": {
          "base_uri": "https://localhost:8080/"
        },
        "id": "bA4__i7RXlCM",
        "outputId": "8f3c49aa-47ef-4fd7-8574-50cbe739e6af"
      },
      "execution_count": 70,
      "outputs": [
        {
          "output_type": "execute_result",
          "data": {
            "text/plain": [
              "tensor([[0.8661],\n",
              "        [0.8801],\n",
              "        [0.8940],\n",
              "        [0.9080],\n",
              "        [0.9220],\n",
              "        [0.9359],\n",
              "        [0.9499],\n",
              "        [0.9638],\n",
              "        [0.9778],\n",
              "        [0.9917]])"
            ]
          },
          "metadata": {},
          "execution_count": 70
        }
      ]
    },
    {
      "cell_type": "code",
      "source": [
        "model_0.eval()\n",
        "with torch.inference_mode():\n",
        "  y_preds = model_0(X_test)"
      ],
      "metadata": {
        "id": "6Z7kJehUf6Uo"
      },
      "execution_count": 75,
      "outputs": []
    },
    {
      "cell_type": "code",
      "source": [
        "y_preds == loaded_model_preds"
      ],
      "metadata": {
        "colab": {
          "base_uri": "https://localhost:8080/"
        },
        "id": "15x2XLpRXlMy",
        "outputId": "1b75dff8-d956-49ab-9f01-98c26c75501a"
      },
      "execution_count": 76,
      "outputs": [
        {
          "output_type": "execute_result",
          "data": {
            "text/plain": [
              "tensor([[True],\n",
              "        [True],\n",
              "        [True],\n",
              "        [True],\n",
              "        [True],\n",
              "        [True],\n",
              "        [True],\n",
              "        [True],\n",
              "        [True],\n",
              "        [True]])"
            ]
          },
          "metadata": {},
          "execution_count": 76
        }
      ]
    },
    {
      "cell_type": "code",
      "source": [],
      "metadata": {
        "id": "7LAunewy3a9p"
      },
      "execution_count": 51,
      "outputs": []
    }
  ]
}